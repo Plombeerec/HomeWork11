{
 "cells": [
  {
   "cell_type": "markdown",
   "id": "f17ad774",
   "metadata": {},
   "source": [
    "f(x) = -12x^4*sin(cos(x)) - 18x^3+5x^2 + 10x - 30\n",
    "Определить корни\n",
    "Найти интервалы, на которых функция возрастает\n",
    "Найти интервалы, на которых функция убывает\n",
    "Построить график (период)\n",
    "Вычислить вершину\n",
    "Определить промежутки, на котором f > 0\n",
    "Определить промежутки, на котором f < 0"
   ]
  },
  {
   "cell_type": "code",
   "execution_count": 74,
   "id": "e3a4a56a",
   "metadata": {},
   "outputs": [
    {
     "data": {
      "text/latex": [
       "$\\displaystyle \\left(\\frac{\\sin{\\left(x \\right)}}{2} + \\frac{\\cos{\\left(x \\right)}}{2}\\right)^{2} \\sin{\\left(x \\right)}$"
      ],
      "text/plain": [
       "(sin(x)/2 + cos(x)/2)**2*sin(x)"
      ]
     },
     "execution_count": 74,
     "metadata": {},
     "output_type": "execute_result"
    }
   ],
   "source": [
    "import sympy\n",
    "from sympy.abc import x\n",
    "from sympy import sqrt, solve, solveset, is_increasing, diff, plot, oo,sin,cos\n",
    "from sympy import evalf, pi\n",
    "y = (sin(x)/2 + cos(x)/2)**2 * sin(x)\n",
    "y"
   ]
  },
  {
   "cell_type": "markdown",
   "id": "7e0259c3",
   "metadata": {},
   "source": [
    "находим корни"
   ]
  },
  {
   "cell_type": "code",
   "execution_count": 51,
   "id": "d454ee07",
   "metadata": {
    "scrolled": true
   },
   "outputs": [
    {
     "data": {
      "text/plain": [
       "[0, -pi/4, 3*pi/4, pi]"
      ]
     },
     "execution_count": 51,
     "metadata": {},
     "output_type": "execute_result"
    }
   ],
   "source": [
    "solve(y,x)"
   ]
  },
  {
   "cell_type": "code",
   "execution_count": 52,
   "id": "8b656d5b",
   "metadata": {},
   "outputs": [
    {
     "data": {
      "text/latex": [
       "$\\displaystyle \\left\\{2 n \\pi\\; \\middle|\\; n \\in \\mathbb{Z}\\right\\} \\cup \\left\\{2 n \\pi + \\pi\\; \\middle|\\; n \\in \\mathbb{Z}\\right\\} \\cup \\left\\{2 n \\pi + \\frac{3 \\pi}{4}\\; \\middle|\\; n \\in \\mathbb{Z}\\right\\} \\cup \\left\\{2 n \\pi + \\frac{7 \\pi}{4}\\; \\middle|\\; n \\in \\mathbb{Z}\\right\\}$"
      ],
      "text/plain": [
       "Union(ImageSet(Lambda(_n, 2*_n*pi + 3*pi/4), Integers), ImageSet(Lambda(_n, 2*_n*pi + 7*pi/4), Integers), ImageSet(Lambda(_n, 2*_n*pi + pi), Integers), ImageSet(Lambda(_n, 2*_n*pi), Integers))"
      ]
     },
     "execution_count": 52,
     "metadata": {},
     "output_type": "execute_result"
    }
   ],
   "source": [
    "solveset(y,x)"
   ]
  },
  {
   "cell_type": "markdown",
   "id": "534b5217",
   "metadata": {},
   "source": [
    "Вычисление производной"
   ]
  },
  {
   "cell_type": "code",
   "execution_count": 65,
   "id": "2ee22217",
   "metadata": {
    "scrolled": true
   },
   "outputs": [
    {
     "data": {
      "text/latex": [
       "$\\displaystyle \\left(- \\sin{\\left(x \\right)} + \\cos{\\left(x \\right)}\\right) \\left(\\frac{\\sin{\\left(x \\right)}}{2} + \\frac{\\cos{\\left(x \\right)}}{2}\\right) \\sin{\\left(x \\right)} + \\left(\\frac{\\sin{\\left(x \\right)}}{2} + \\frac{\\cos{\\left(x \\right)}}{2}\\right)^{2} \\cos{\\left(x \\right)}$"
      ],
      "text/plain": [
       "(-sin(x) + cos(x))*(sin(x)/2 + cos(x)/2)*sin(x) + (sin(x)/2 + cos(x)/2)**2*cos(x)"
      ]
     },
     "execution_count": 65,
     "metadata": {},
     "output_type": "execute_result"
    }
   ],
   "source": [
    "derivative = y.diff(x)\n",
    "derivative"
   ]
  },
  {
   "cell_type": "markdown",
   "id": "c402867f",
   "metadata": {},
   "source": [
    "Нахождение экстремумов"
   ]
  },
  {
   "cell_type": "code",
   "execution_count": 89,
   "id": "852869ef",
   "metadata": {
    "scrolled": true
   },
   "outputs": [
    {
     "name": "stdout",
     "output_type": "stream",
     "text": [
      "-0.79 -pi/4\n",
      "2.36 3*pi/4\n",
      "-2.08 -2*atan(-3/2 + sqrt(6)*sqrt(5 - sqrt(17))/2 + sqrt(17)/2)\n",
      "2.87 2*atan(3/2 + sqrt(17)/2 + sqrt(6)*sqrt(sqrt(17) + 5)/2)\n",
      "1.06 2*atan(-sqrt(17)/2 + sqrt(6)*sqrt(5 - sqrt(17))/2 + 3/2)\n",
      "-0.27 2*atan(-sqrt(6)*sqrt(sqrt(17) + 5)/2 + 3/2 + sqrt(17)/2)\n"
     ]
    }
   ],
   "source": [
    "extremums = solve(derivative, x)\n",
    "for i in extremums:\n",
    "    print(round(i.evalf(), 2), i)"
   ]
  },
  {
   "cell_type": "markdown",
   "id": "271cdbe7",
   "metadata": {},
   "source": [
    "обозначение отрезков"
   ]
  },
  {
   "cell_type": "code",
   "execution_count": 90,
   "id": "95884c3b",
   "metadata": {},
   "outputs": [
    {
     "name": "stdout",
     "output_type": "stream",
     "text": [
      "-3.14 -pi\n",
      "-0.79 -pi/4\n",
      "2.36 3*pi/4\n",
      "-2.08 -2*atan(-3/2 + sqrt(6)*sqrt(5 - sqrt(17))/2 + sqrt(17)/2)\n",
      "2.87 2*atan(3/2 + sqrt(17)/2 + sqrt(6)*sqrt(sqrt(17) + 5)/2)\n",
      "1.06 2*atan(-sqrt(17)/2 + sqrt(6)*sqrt(5 - sqrt(17))/2 + 3/2)\n",
      "-0.27 2*atan(-sqrt(6)*sqrt(sqrt(17) + 5)/2 + 3/2 + sqrt(17)/2)\n",
      "3.14 pi\n"
     ]
    }
   ],
   "source": [
    "if extremums[-1] != pi:\n",
    "    extremums.append(pi)\n",
    "if extremums[0] != pi:\n",
    "    extremums.insert(0,-pi)\n",
    "for i in extremums:\n",
    "    print(round(i.evalf(), 2), i)"
   ]
  },
  {
   "cell_type": "markdown",
   "id": "1c1cc0af",
   "metadata": {},
   "source": [
    "Найти интервалы, на которых функция возрастает/убывает"
   ]
  },
  {
   "cell_type": "code",
   "execution_count": 91,
   "id": "7c86c7d3",
   "metadata": {},
   "outputs": [
    {
     "name": "stdout",
     "output_type": "stream",
     "text": [
      "Функция возрастает на отрезке: (-3.14: -0.79)\n",
      "Функция возрастает на отрезке: (-0.79: 2.36)\n",
      "Функция возрастает на отрезке: (2.36: -2.08)\n",
      "Функция возрастает на отрезке: (-2.08: 2.87)\n",
      "Функция убывает на отрезке: (2.87: 1.06)\n",
      "Функция возрастает на отрезке: (1.06: -0.27)\n",
      "Функция убывает на отрезке: (-0.27: 3.14)\n"
     ]
    }
   ],
   "source": [
    "for i in range(len(extremums)-1):\n",
    "    result = derivative.subs(x,(extremums[i+1]+ extremums[i])/2.0)\n",
    "    if result > 0:\n",
    "        print(f'Функция возрастает на отрезке: ({round(extremums[i].evalf(), 2)}: {round(extremums[i+1].evalf(), 2)})')\n",
    "    else:\n",
    "        print(f'Функция убывает на отрезке: ({round(extremums[i].evalf(), 2)}: {round(extremums[i+1].evalf(), 2)})')"
   ]
  },
  {
   "cell_type": "markdown",
   "id": "b0e7d7e2",
   "metadata": {},
   "source": [
    "Строми график"
   ]
  },
  {
   "cell_type": "code",
   "execution_count": 83,
   "id": "44a27c4f",
   "metadata": {},
   "outputs": [
    {
     "data": {
      "image/png": "[encoded data removed]",
      "text/plain": [
       "<Figure size 432x288 with 1 Axes>"
      ]
     },
     "metadata": {
      "needs_background": "light"
     },
     "output_type": "display_data"
    }
   ],
   "source": [
    "graph = plot(y,(x, -pi, pi))"
   ]
  },
  {
   "cell_type": "code",
   "execution_count": 94,
   "id": "a6244744",
   "metadata": {},
   "outputs": [
    {
     "name": "stdout",
     "output_type": "stream",
     "text": [
      "Вершина1: x = 3.14, y = 0\n",
      "Вершина2: x = -3.14, y = 0\n",
      "Вершина3: x = -0.79, y = 0\n",
      "Вершина4: x = 2.36, y = 0\n",
      "Вершина5: x = -2.08, y = -0.40\n",
      "Вершина6: x = 2.87, y = 0.03\n",
      "Вершина7: x = 1.06, y = 0.40\n",
      "Вершина8: x = -0.27, y = -0.03\n",
      "Вершина9: x = 3.14, y = 0\n",
      "\n",
      "ymax =  0.404106232073136\n",
      "ymin = -0.404106232073136\n"
     ]
    }
   ],
   "source": [
    "for i in range(len(extremums)):\n",
    "    result = y.subs(x,extremums[i])\n",
    "    print(f'Вершина{i+1}: x = {round(extremums[i].evalf(), 2)}, y = {round(result,2)}')\n",
    "    if i == 0:\n",
    "        ymax = result\n",
    "        ymin = result\n",
    "    else:\n",
    "        if result < ymin:\n",
    "            ymin = result\n",
    "        if result > ymax:\n",
    "            ymax = result\n",
    "print()\n",
    "print('ymax = ', ymax.evalf())\n",
    "print('ymin =', ymin.evalf())"
   ]
  },
  {
   "cell_type": "markdown",
   "id": "72824bd5",
   "metadata": {},
   "source": [
    "Найти промежутки, на которых f > 0/ f < 0"
   ]
  },
  {
   "cell_type": "code",
   "execution_count": 99,
   "id": "b49379e6",
   "metadata": {},
   "outputs": [
    {
     "data": {
      "text/plain": [
       "[-pi,\n",
       " -pi,\n",
       " -pi,\n",
       " -2*atan(-3/2 + sqrt(6)*sqrt(5 - sqrt(17))/2 + sqrt(17)/2),\n",
       " -pi/4,\n",
       " 2*atan(-sqrt(6)*sqrt(sqrt(17) + 5)/2 + 3/2 + sqrt(17)/2),\n",
       " 2*atan(-sqrt(17)/2 + sqrt(6)*sqrt(5 - sqrt(17))/2 + 3/2),\n",
       " 3*pi/4,\n",
       " 2*atan(3/2 + sqrt(17)/2 + sqrt(6)*sqrt(sqrt(17) + 5)/2),\n",
       " pi,\n",
       " pi]"
      ]
     },
     "execution_count": 99,
     "metadata": {},
     "output_type": "execute_result"
    }
   ],
   "source": [
    "if extremums[-1] != pi:\n",
    "    extremums.append(pi)\n",
    "if extremums[0] != pi:\n",
    "    extremums.insert(0, -pi)\n",
    "extremums.sort()\n",
    "extremums"
   ]
  },
  {
   "cell_type": "code",
   "execution_count": 102,
   "id": "ae604be9",
   "metadata": {},
   "outputs": [
    {
     "name": "stdout",
     "output_type": "stream",
     "text": [
      "Функция меньше 0 на отрезке(-pi: -pi)\n",
      "Функция меньше 0 на отрезке(-pi: -pi)\n",
      "Функция меньше 0 на отрезке(-pi: -2*atan(-3/2 + sqrt(6)*sqrt(5 - sqrt(17))/2 + sqrt(17)/2))\n",
      "Функция меньше 0 на отрезке(-2*atan(-3/2 + sqrt(6)*sqrt(5 - sqrt(17))/2 + sqrt(17)/2): -pi/4)\n",
      "Функция меньше 0 на отрезке(-pi/4: 2*atan(-sqrt(6)*sqrt(sqrt(17) + 5)/2 + 3/2 + sqrt(17)/2))\n",
      "Функция больше 0 на отрезке(2*atan(-sqrt(6)*sqrt(sqrt(17) + 5)/2 + 3/2 + sqrt(17)/2): 2*atan(-sqrt(17)/2 + sqrt(6)*sqrt(5 - sqrt(17))/2 + 3/2))\n",
      "Функция больше 0 на отрезке(2*atan(-sqrt(17)/2 + sqrt(6)*sqrt(5 - sqrt(17))/2 + 3/2): 3*pi/4)\n",
      "Функция больше 0 на отрезке(3*pi/4: 2*atan(3/2 + sqrt(17)/2 + sqrt(6)*sqrt(sqrt(17) + 5)/2))\n",
      "Функция больше 0 на отрезке(2*atan(3/2 + sqrt(17)/2 + sqrt(6)*sqrt(sqrt(17) + 5)/2): pi)\n",
      "Функция меньше 0 на отрезке(pi: pi)\n"
     ]
    }
   ],
   "source": [
    "for i in range(len(extremums)-1):\n",
    "    result = y.subs(x,(extremums[i+1] + extremums[i])/2.0)\n",
    "    if result > 0:\n",
    "        print(f'Функция больше 0 на отрезке({extremums[i]}: {extremums[i+1]})')\n",
    "    else:\n",
    "        print(f'Функция меньше 0 на отрезке({extremums[i]}: {extremums[i+1]})')"
   ]
  },
  {
   "cell_type": "code",
   "execution_count": null,
   "id": "23880e10",
   "metadata": {},
   "outputs": [],
   "source": []
  }
 ],
 "metadata": {
  "kernelspec": {
   "display_name": "Python 3 (ipykernel)",
   "language": "python",
   "name": "python3"
  },
  "language_info": {
   "codemirror_mode": {
    "name": "ipython",
    "version": 3
   },
   "file_extension": ".py",
   "mimetype": "text/x-python",
   "name": "python",
   "nbconvert_exporter": "python",
   "pygments_lexer": "ipython3",
   "version": "3.9.12"
  }
 },
 "nbformat": 4,
 "nbformat_minor": 5
}
